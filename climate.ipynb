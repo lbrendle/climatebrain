{
 "cells": [
  {
   "cell_type": "code",
   "execution_count": 78,
   "metadata": {},
   "outputs": [],
   "source": [
    "import pandas as pd\n",
    "import seaborn as sns\n",
    "import matplotlib.pyplot as plt\n",
    "import numpy as np\n",
    "from sklearn import linear_model\n",
    "import statsmodels.api as sm\n",
    "from sklearn.ensemble import RandomForestRegressor\n",
    "from statsmodels.stats.outliers_influence import variance_inflation_factor\n",
    "import statsmodels.graphics.api as smg"
   ]
  },
  {
   "cell_type": "code",
   "execution_count": 29,
   "metadata": {},
   "outputs": [],
   "source": [
    "df = pd.read_csv(\"climate.csv\")"
   ]
  },
  {
   "cell_type": "code",
   "execution_count": 7,
   "metadata": {},
   "outputs": [
    {
     "data": {
      "image/png": "[encoded data removed]",
      "text/plain": [
       "<Figure size 432x288 with 1 Axes>"
      ]
     },
     "metadata": {
      "needs_background": "light"
     },
     "output_type": "display_data"
    }
   ],
   "source": [
    "plt.scatter(df['temp'], df['suicide'], color='red')\n",
    "plt.title('Suicide vs. Temp', fontsize=14)\n",
    "plt.xlabel('Temp', fontsize=14)\n",
    "plt.ylabel('Suicide', fontsize=14)\n",
    "plt.grid(True)\n",
    "plt.show()"
   ]
  },
  {
   "cell_type": "code",
   "execution_count": 8,
   "metadata": {},
   "outputs": [
    {
     "data": {
      "image/png": "[encoded data removed]",
      "text/plain": [
       "<Figure size 432x288 with 1 Axes>"
      ]
     },
     "metadata": {
      "needs_background": "light"
     },
     "output_type": "display_data"
    }
   ],
   "source": [
    "plt.scatter(df['carbon'], df['suicide'], color='red')\n",
    "plt.title('Suicide vs. Carbon', fontsize=14)\n",
    "plt.xlabel('Carbon', fontsize=14)\n",
    "plt.ylabel('Suicide', fontsize=14)\n",
    "plt.grid(True)\n",
    "plt.show()"
   ]
  },
  {
   "cell_type": "code",
   "execution_count": 9,
   "metadata": {},
   "outputs": [
    {
     "data": {
      "image/png": "[encoded data removed]",
      "text/plain": [
       "<Figure size 432x288 with 1 Axes>"
      ]
     },
     "metadata": {
      "needs_background": "light"
     },
     "output_type": "display_data"
    }
   ],
   "source": [
    "plt.scatter(df['year'], df['suicide'], color='red')\n",
    "plt.title('Suicide vs. Year', fontsize=14)\n",
    "plt.xlabel('Year', fontsize=14)\n",
    "plt.ylabel('Suicide', fontsize=14)\n",
    "plt.grid(True)\n",
    "plt.show()"
   ]
  },
  {
   "cell_type": "code",
   "execution_count": 14,
   "metadata": {},
   "outputs": [
    {
     "name": "stdout",
     "output_type": "stream",
     "text": [
      "                            OLS Regression Results                            \n",
      "==============================================================================\n",
      "Dep. Variable:                suicide   R-squared:                       0.995\n",
      "Model:                            OLS   Adj. R-squared:                  0.994\n",
      "Method:                 Least Squares   F-statistic:                     1013.\n",
      "Date:                Sun, 02 Oct 2022   Prob (F-statistic):           1.89e-18\n",
      "Time:                        14:56:50   Log-Likelihood:                 14.847\n",
      "No. Observations:                  20   AIC:                            -21.69\n",
      "Df Residuals:                      16   BIC:                            -17.71\n",
      "Df Model:                           3                                         \n",
      "Covariance Type:            nonrobust                                         \n",
      "==============================================================================\n",
      "                 coef    std err          t      P>|t|      [0.025      0.975]\n",
      "------------------------------------------------------------------------------\n",
      "const       1389.0942    198.259      7.006      0.000     968.804    1809.384\n",
      "temp          -1.0275      0.426     -2.413      0.028      -1.930      -0.125\n",
      "carbon         0.2189      0.052      4.201      0.001       0.108       0.329\n",
      "year          -0.7278      0.109     -6.699      0.000      -0.958      -0.497\n",
      "==============================================================================\n",
      "Omnibus:                        1.517   Durbin-Watson:                   1.078\n",
      "Prob(Omnibus):                  0.468   Jarque-Bera (JB):                1.320\n",
      "Skew:                           0.536   Prob(JB):                        0.517\n",
      "Kurtosis:                       2.340   Cond. No.                     1.41e+07\n",
      "==============================================================================\n",
      "\n",
      "Notes:\n",
      "[1] Standard Errors assume that the covariance matrix of the errors is correctly specified.\n",
      "[2] The condition number is large, 1.41e+07. This might indicate that there are\n",
      "strong multicollinearity or other numerical problems.\n"
     ]
    },
    {
     "name": "stderr",
     "output_type": "stream",
     "text": [
      "/Users/lbrendle/opt/anaconda3/lib/python3.8/site-packages/statsmodels/tsa/tsatools.py:142: FutureWarning: In a future version of pandas all arguments of concat except for the argument 'objs' will be keyword-only.\n",
      "  x = pd.concat(x[::order], 1)\n"
     ]
    }
   ],
   "source": [
    "x = sm.add_constant(x) \n",
    " \n",
    "model = sm.OLS(y, x).fit()\n",
    "predictions = model.predict(x) \n",
    " \n",
    "print_model = model.summary()\n",
    "print(print_model)"
   ]
  },
  {
   "cell_type": "code",
   "execution_count": 15,
   "metadata": {},
   "outputs": [
    {
     "data": {
      "text/html": [
       "<div>\n",
       "<style scoped>\n",
       "    .dataframe tbody tr th:only-of-type {\n",
       "        vertical-align: middle;\n",
       "    }\n",
       "\n",
       "    .dataframe tbody tr th {\n",
       "        vertical-align: top;\n",
       "    }\n",
       "\n",
       "    .dataframe thead th {\n",
       "        text-align: right;\n",
       "    }\n",
       "</style>\n",
       "<table border=\"1\" class=\"dataframe\">\n",
       "  <thead>\n",
       "    <tr style=\"text-align: right;\">\n",
       "      <th></th>\n",
       "      <th>year</th>\n",
       "      <th>temp</th>\n",
       "      <th>carbon</th>\n",
       "      <th>suicide</th>\n",
       "      <th>Unnamed: 4</th>\n",
       "    </tr>\n",
       "  </thead>\n",
       "  <tbody>\n",
       "    <tr>\n",
       "      <th>0</th>\n",
       "      <td>2000</td>\n",
       "      <td>0.39</td>\n",
       "      <td>369.707500</td>\n",
       "      <td>14.03</td>\n",
       "      <td>NaN</td>\n",
       "    </tr>\n",
       "    <tr>\n",
       "      <th>1</th>\n",
       "      <td>2001</td>\n",
       "      <td>0.53</td>\n",
       "      <td>371.319167</td>\n",
       "      <td>13.41</td>\n",
       "      <td>NaN</td>\n",
       "    </tr>\n",
       "    <tr>\n",
       "      <th>2</th>\n",
       "      <td>2002</td>\n",
       "      <td>0.63</td>\n",
       "      <td>373.452500</td>\n",
       "      <td>13.08</td>\n",
       "      <td>NaN</td>\n",
       "    </tr>\n",
       "    <tr>\n",
       "      <th>3</th>\n",
       "      <td>2003</td>\n",
       "      <td>0.62</td>\n",
       "      <td>375.983333</td>\n",
       "      <td>12.96</td>\n",
       "      <td>NaN</td>\n",
       "    </tr>\n",
       "    <tr>\n",
       "      <th>4</th>\n",
       "      <td>2004</td>\n",
       "      <td>0.53</td>\n",
       "      <td>377.698333</td>\n",
       "      <td>12.80</td>\n",
       "      <td>NaN</td>\n",
       "    </tr>\n",
       "  </tbody>\n",
       "</table>\n",
       "</div>"
      ],
      "text/plain": [
       "   year  temp      carbon  suicide  Unnamed: 4\n",
       "0  2000  0.39  369.707500    14.03         NaN\n",
       "1  2001  0.53  371.319167    13.41         NaN\n",
       "2  2002  0.63  373.452500    13.08         NaN\n",
       "3  2003  0.62  375.983333    12.96         NaN\n",
       "4  2004  0.53  377.698333    12.80         NaN"
      ]
     },
     "execution_count": 15,
     "metadata": {},
     "output_type": "execute_result"
    }
   ],
   "source": [
    "df.head()"
   ]
  },
  {
   "cell_type": "code",
   "execution_count": 16,
   "metadata": {},
   "outputs": [
    {
     "data": {
      "image/png": "[encoded data removed]",
      "text/plain": [
       "<Figure size 432x288 with 1 Axes>"
      ]
     },
     "metadata": {
      "needs_background": "light"
     },
     "output_type": "display_data"
    }
   ],
   "source": [
    "plt.scatter(df['temp'], df['carbon'], color='red')\n",
    "plt.title('Carbon vs. Temp', fontsize=14)\n",
    "plt.xlabel('Temp', fontsize=14)\n",
    "plt.ylabel('Carbon', fontsize=14)\n",
    "plt.grid(True)\n",
    "plt.show()"
   ]
  },
  {
   "cell_type": "code",
   "execution_count": 25,
   "metadata": {},
   "outputs": [],
   "source": [
    "df['temp_carbon'] = df.temp * df.carbon"
   ]
  },
  {
   "cell_type": "code",
   "execution_count": 22,
   "metadata": {},
   "outputs": [
    {
     "data": {
      "image/png": "[encoded data removed]",
      "text/plain": [
       "<Figure size 432x288 with 1 Axes>"
      ]
     },
     "metadata": {
      "needs_background": "light"
     },
     "output_type": "display_data"
    }
   ],
   "source": [
    "plt.scatter(df['temp_carbon'], df['suicide'], color='red')\n",
    "plt.title('Suicide vs. Temp*Carbon', fontsize=14)\n",
    "plt.xlabel('Temp*Carbon', fontsize=14)\n",
    "plt.ylabel('Suicide', fontsize=14)\n",
    "plt.grid(True)\n",
    "plt.show()"
   ]
  },
  {
   "cell_type": "code",
   "execution_count": 26,
   "metadata": {},
   "outputs": [],
   "source": [
    "x = df[['temp', 'carbon', 'year', 'temp_carbon']]\n",
    "y = df['suicide']"
   ]
  },
  {
   "cell_type": "code",
   "execution_count": 27,
   "metadata": {},
   "outputs": [
    {
     "name": "stdout",
     "output_type": "stream",
     "text": [
      "                            OLS Regression Results                            \n",
      "==============================================================================\n",
      "Dep. Variable:                suicide   R-squared:                       0.995\n",
      "Model:                            OLS   Adj. R-squared:                  0.993\n",
      "Method:                 Least Squares   F-statistic:                     717.8\n",
      "Date:                Sun, 02 Oct 2022   Prob (F-statistic):           6.25e-17\n",
      "Time:                        15:39:44   Log-Likelihood:                 14.924\n",
      "No. Observations:                  20   AIC:                            -19.85\n",
      "Df Residuals:                      15   BIC:                            -14.87\n",
      "Df Model:                           4                                         \n",
      "Covariance Type:            nonrobust                                         \n",
      "===============================================================================\n",
      "                  coef    std err          t      P>|t|      [0.025      0.975]\n",
      "-------------------------------------------------------------------------------\n",
      "const        1486.2604    350.610      4.239      0.001     738.953    2233.568\n",
      "temp            2.5432     10.489      0.242      0.812     -19.813      24.899\n",
      "carbon          0.2510      0.108      2.315      0.035       0.020       0.482\n",
      "year           -0.7823      0.195     -4.006      0.001      -1.199      -0.366\n",
      "temp_carbon    -0.0093      0.027     -0.341      0.738      -0.067       0.049\n",
      "==============================================================================\n",
      "Omnibus:                        1.397   Durbin-Watson:                   1.127\n",
      "Prob(Omnibus):                  0.497   Jarque-Bera (JB):                1.206\n",
      "Skew:                           0.457   Prob(JB):                        0.547\n",
      "Kurtosis:                       2.218   Cond. No.                     2.44e+07\n",
      "==============================================================================\n",
      "\n",
      "Notes:\n",
      "[1] Standard Errors assume that the covariance matrix of the errors is correctly specified.\n",
      "[2] The condition number is large, 2.44e+07. This might indicate that there are\n",
      "strong multicollinearity or other numerical problems.\n"
     ]
    },
    {
     "name": "stderr",
     "output_type": "stream",
     "text": [
      "/Users/lbrendle/opt/anaconda3/lib/python3.8/site-packages/statsmodels/tsa/tsatools.py:142: FutureWarning: In a future version of pandas all arguments of concat except for the argument 'objs' will be keyword-only.\n",
      "  x = pd.concat(x[::order], 1)\n"
     ]
    }
   ],
   "source": [
    "x = sm.add_constant(x) \n",
    " \n",
    "model = sm.OLS(y, x).fit()\n",
    "predictions = model.predict(x) \n",
    " \n",
    "print_model = model.summary()\n",
    "print(print_model)"
   ]
  },
  {
   "cell_type": "code",
   "execution_count": 47,
   "metadata": {},
   "outputs": [],
   "source": [
    "df2 = pd.read_csv(\"climate3.csv\")"
   ]
  },
  {
   "cell_type": "code",
   "execution_count": 48,
   "metadata": {},
   "outputs": [
    {
     "data": {
      "image/png": "[encoded data removed]",
      "text/plain": [
       "<Figure size 432x288 with 1 Axes>"
      ]
     },
     "metadata": {
      "needs_background": "light"
     },
     "output_type": "display_data"
    }
   ],
   "source": [
    "plt.scatter(df2['carbon'], df2['suicide'], color='red')\n",
    "plt.title('Suicide vs. Carbon', fontsize=14)\n",
    "plt.xlabel('Carbon', fontsize=14)\n",
    "plt.ylabel('Suicide', fontsize=14)\n",
    "plt.grid(True)\n",
    "plt.show()"
   ]
  },
  {
   "cell_type": "code",
   "execution_count": 49,
   "metadata": {},
   "outputs": [
    {
     "data": {
      "image/png": "[encoded data removed]",
      "text/plain": [
       "<Figure size 432x288 with 1 Axes>"
      ]
     },
     "metadata": {
      "needs_background": "light"
     },
     "output_type": "display_data"
    }
   ],
   "source": [
    "plt.scatter(df2['month'], df2['suicide'], color='red')\n",
    "plt.title('Suicide vs. Month', fontsize=14)\n",
    "plt.xlabel('Month', fontsize=14)\n",
    "plt.ylabel('Suicide', fontsize=14)\n",
    "plt.grid(True)\n",
    "plt.show()"
   ]
  },
  {
   "cell_type": "code",
   "execution_count": 50,
   "metadata": {},
   "outputs": [
    {
     "data": {
      "image/png": "[encoded data removed]",
      "text/plain": [
       "<Figure size 432x288 with 1 Axes>"
      ]
     },
     "metadata": {
      "needs_background": "light"
     },
     "output_type": "display_data"
    }
   ],
   "source": [
    "plt.scatter(df2['month'], df2['carbon'], color='red')\n",
    "plt.title('Carbon vs. Month', fontsize=14)\n",
    "plt.xlabel('Carbon', fontsize=14)\n",
    "plt.ylabel('Suicide', fontsize=14)\n",
    "plt.grid(True)\n",
    "plt.show()"
   ]
  },
  {
   "cell_type": "code",
   "execution_count": 96,
   "metadata": {},
   "outputs": [],
   "source": [
    "x2 = df2[['carbon', 'month', 'year']]\n",
    "y2 = df2['suicide']"
   ]
  },
  {
   "cell_type": "code",
   "execution_count": 97,
   "metadata": {},
   "outputs": [
    {
     "name": "stdout",
     "output_type": "stream",
     "text": [
      "                            OLS Regression Results                            \n",
      "==============================================================================\n",
      "Dep. Variable:                suicide   R-squared:                       0.036\n",
      "Model:                            OLS   Adj. R-squared:                 -0.007\n",
      "Method:                 Least Squares   F-statistic:                    0.8313\n",
      "Date:                Sun, 02 Oct 2022   Prob (F-statistic):              0.481\n",
      "Time:                        20:04:28   Log-Likelihood:                -121.99\n",
      "No. Observations:                  70   AIC:                             252.0\n",
      "Df Residuals:                      66   BIC:                             261.0\n",
      "Df Model:                           3                                         \n",
      "Covariance Type:            nonrobust                                         \n",
      "==============================================================================\n",
      "                 coef    std err          t      P>|t|      [0.025      0.975]\n",
      "------------------------------------------------------------------------------\n",
      "const       -697.8359    481.585     -1.449      0.152   -1659.352     263.680\n",
      "carbon        -0.1408      0.097     -1.452      0.151      -0.334       0.053\n",
      "month         -0.0183      0.055     -0.331      0.742      -0.129       0.092\n",
      "year           0.3993      0.257      1.556      0.124      -0.113       0.912\n",
      "==============================================================================\n",
      "Omnibus:                        0.153   Durbin-Watson:                   0.725\n",
      "Prob(Omnibus):                  0.926   Jarque-Bera (JB):                0.299\n",
      "Skew:                          -0.094   Prob(JB):                        0.861\n",
      "Kurtosis:                       2.741   Cond. No.                     5.83e+06\n",
      "==============================================================================\n",
      "\n",
      "Notes:\n",
      "[1] Standard Errors assume that the covariance matrix of the errors is correctly specified.\n",
      "[2] The condition number is large, 5.83e+06. This might indicate that there are\n",
      "strong multicollinearity or other numerical problems.\n"
     ]
    },
    {
     "name": "stderr",
     "output_type": "stream",
     "text": [
      "/Users/lbrendle/opt/anaconda3/lib/python3.8/site-packages/statsmodels/tsa/tsatools.py:142: FutureWarning: In a future version of pandas all arguments of concat except for the argument 'objs' will be keyword-only.\n",
      "  x = pd.concat(x[::order], 1)\n"
     ]
    }
   ],
   "source": [
    "x2 = sm.add_constant(x2) \n",
    " \n",
    "model = sm.OLS(y2, x2).fit()\n",
    "predictions = model.predict(x2) \n",
    " \n",
    "print_model = model.summary()\n",
    "print(print_model)"
   ]
  },
  {
   "cell_type": "code",
   "execution_count": 85,
   "metadata": {},
   "outputs": [
    {
     "name": "stderr",
     "output_type": "stream",
     "text": [
      "/Users/lbrendle/opt/anaconda3/lib/python3.8/site-packages/pandas/io/formats/style.py:3554: RuntimeWarning: All-NaN slice encountered\n",
      "  smin = np.nanmin(gmap) if vmin is None else vmin\n",
      "/Users/lbrendle/opt/anaconda3/lib/python3.8/site-packages/pandas/io/formats/style.py:3555: RuntimeWarning: All-NaN slice encountered\n",
      "  smax = np.nanmax(gmap) if vmax is None else vmax\n"
     ]
    },
    {
     "data": {
      "text/html": [
       "<style type=\"text/css\">\n",
       "#T_0b55f_row0_col0, #T_0b55f_row0_col2, #T_0b55f_row1_col1, #T_0b55f_row2_col0, #T_0b55f_row2_col2, #T_0b55f_row3_col3 {\n",
       "  background-color: #b40426;\n",
       "  color: #f1f1f1;\n",
       "}\n",
       "#T_0b55f_row0_col1 {\n",
       "  background-color: #cf453c;\n",
       "  color: #f1f1f1;\n",
       "}\n",
       "#T_0b55f_row0_col3, #T_0b55f_row2_col3, #T_0b55f_row3_col0, #T_0b55f_row3_col1, #T_0b55f_row3_col2 {\n",
       "  background-color: #3b4cc0;\n",
       "  color: #f1f1f1;\n",
       "}\n",
       "#T_0b55f_row0_col4, #T_0b55f_row1_col4, #T_0b55f_row2_col4, #T_0b55f_row3_col4, #T_0b55f_row4_col0, #T_0b55f_row4_col1, #T_0b55f_row4_col2, #T_0b55f_row4_col3, #T_0b55f_row4_col4 {\n",
       "  background-color: #000000;\n",
       "  color: #f1f1f1;\n",
       "}\n",
       "#T_0b55f_row1_col0 {\n",
       "  background-color: #cd423b;\n",
       "  color: #f1f1f1;\n",
       "}\n",
       "#T_0b55f_row1_col2 {\n",
       "  background-color: #cb3e38;\n",
       "  color: #f1f1f1;\n",
       "}\n",
       "#T_0b55f_row1_col3 {\n",
       "  background-color: #4f69d9;\n",
       "  color: #f1f1f1;\n",
       "}\n",
       "#T_0b55f_row2_col1 {\n",
       "  background-color: #cc403a;\n",
       "  color: #f1f1f1;\n",
       "}\n",
       "</style>\n",
       "<table id=\"T_0b55f\">\n",
       "  <thead>\n",
       "    <tr>\n",
       "      <th class=\"blank level0\" >&nbsp;</th>\n",
       "      <th id=\"T_0b55f_level0_col0\" class=\"col_heading level0 col0\" >year</th>\n",
       "      <th id=\"T_0b55f_level0_col1\" class=\"col_heading level0 col1\" >temp</th>\n",
       "      <th id=\"T_0b55f_level0_col2\" class=\"col_heading level0 col2\" >carbon</th>\n",
       "      <th id=\"T_0b55f_level0_col3\" class=\"col_heading level0 col3\" >suicide</th>\n",
       "      <th id=\"T_0b55f_level0_col4\" class=\"col_heading level0 col4\" >Unnamed: 4</th>\n",
       "    </tr>\n",
       "  </thead>\n",
       "  <tbody>\n",
       "    <tr>\n",
       "      <th id=\"T_0b55f_level0_row0\" class=\"row_heading level0 row0\" >year</th>\n",
       "      <td id=\"T_0b55f_row0_col0\" class=\"data row0 col0\" >1.000000</td>\n",
       "      <td id=\"T_0b55f_row0_col1\" class=\"data row0 col1\" >0.858918</td>\n",
       "      <td id=\"T_0b55f_row0_col2\" class=\"data row0 col2\" >0.998632</td>\n",
       "      <td id=\"T_0b55f_row0_col3\" class=\"data row0 col3\" >-0.994474</td>\n",
       "      <td id=\"T_0b55f_row0_col4\" class=\"data row0 col4\" >nan</td>\n",
       "    </tr>\n",
       "    <tr>\n",
       "      <th id=\"T_0b55f_level0_row1\" class=\"row_heading level0 row1\" >temp</th>\n",
       "      <td id=\"T_0b55f_row1_col0\" class=\"data row1 col0\" >0.858918</td>\n",
       "      <td id=\"T_0b55f_row1_col1\" class=\"data row1 col1\" >1.000000</td>\n",
       "      <td id=\"T_0b55f_row1_col2\" class=\"data row1 col2\" >0.872304</td>\n",
       "      <td id=\"T_0b55f_row1_col3\" class=\"data row1 col3\" >-0.855592</td>\n",
       "      <td id=\"T_0b55f_row1_col4\" class=\"data row1 col4\" >nan</td>\n",
       "    </tr>\n",
       "    <tr>\n",
       "      <th id=\"T_0b55f_level0_row2\" class=\"row_heading level0 row2\" >carbon</th>\n",
       "      <td id=\"T_0b55f_row2_col0\" class=\"data row2 col0\" >0.998632</td>\n",
       "      <td id=\"T_0b55f_row2_col1\" class=\"data row2 col1\" >0.872304</td>\n",
       "      <td id=\"T_0b55f_row2_col2\" class=\"data row2 col2\" >1.000000</td>\n",
       "      <td id=\"T_0b55f_row2_col3\" class=\"data row2 col3\" >-0.989857</td>\n",
       "      <td id=\"T_0b55f_row2_col4\" class=\"data row2 col4\" >nan</td>\n",
       "    </tr>\n",
       "    <tr>\n",
       "      <th id=\"T_0b55f_level0_row3\" class=\"row_heading level0 row3\" >suicide</th>\n",
       "      <td id=\"T_0b55f_row3_col0\" class=\"data row3 col0\" >-0.994474</td>\n",
       "      <td id=\"T_0b55f_row3_col1\" class=\"data row3 col1\" >-0.855592</td>\n",
       "      <td id=\"T_0b55f_row3_col2\" class=\"data row3 col2\" >-0.989857</td>\n",
       "      <td id=\"T_0b55f_row3_col3\" class=\"data row3 col3\" >1.000000</td>\n",
       "      <td id=\"T_0b55f_row3_col4\" class=\"data row3 col4\" >nan</td>\n",
       "    </tr>\n",
       "    <tr>\n",
       "      <th id=\"T_0b55f_level0_row4\" class=\"row_heading level0 row4\" >Unnamed: 4</th>\n",
       "      <td id=\"T_0b55f_row4_col0\" class=\"data row4 col0\" >nan</td>\n",
       "      <td id=\"T_0b55f_row4_col1\" class=\"data row4 col1\" >nan</td>\n",
       "      <td id=\"T_0b55f_row4_col2\" class=\"data row4 col2\" >nan</td>\n",
       "      <td id=\"T_0b55f_row4_col3\" class=\"data row4 col3\" >nan</td>\n",
       "      <td id=\"T_0b55f_row4_col4\" class=\"data row4 col4\" >nan</td>\n",
       "    </tr>\n",
       "  </tbody>\n",
       "</table>\n"
      ],
      "text/plain": [
       "<pandas.io.formats.style.Styler at 0x7fecf82f9940>"
      ]
     },
     "execution_count": 85,
     "metadata": {},
     "output_type": "execute_result"
    }
   ],
   "source": [
    "rs = np.random.RandomState(0)\n",
    "corr = df.corr()\n",
    "corr.style.background_gradient(cmap='coolwarm')"
   ]
  }
 ],
 "metadata": {
  "kernelspec": {
   "display_name": "Python 3",
   "language": "python",
   "name": "python3"
  },
  "language_info": {
   "codemirror_mode": {
    "name": "ipython",
    "version": 3
   },
   "file_extension": ".py",
   "mimetype": "text/x-python",
   "name": "python",
   "nbconvert_exporter": "python",
   "pygments_lexer": "ipython3",
   "version": "3.8.5"
  }
 },
 "nbformat": 4,
 "nbformat_minor": 4
}
